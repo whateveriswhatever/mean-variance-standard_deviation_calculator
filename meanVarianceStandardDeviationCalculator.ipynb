{
 "cells": [
  {
   "cell_type": "markdown",
   "metadata": {},
   "source": [
    "# Mean-Variance-Standard Deviation Calculator"
   ]
  },
  {
   "cell_type": "markdown",
   "metadata": {},
   "source": [
    "In an NumPy matrix:\n",
    "- axis 0 -> columns in the matrix\n",
    "- axis 1 -> orws in the matrix"
   ]
  },
  {
   "cell_type": "code",
   "execution_count": 505,
   "metadata": {},
   "outputs": [],
   "source": [
    "import numpy as np\n",
    "from decimal import Decimal, getcontext"
   ]
  },
  {
   "cell_type": "code",
   "execution_count": 506,
   "metadata": {},
   "outputs": [
    {
     "name": "stdout",
     "output_type": "stream",
     "text": [
      "[0, 1, 2, 3, 4, 5, 6, 7, 8]\n"
     ]
    }
   ],
   "source": [
    "# Setting the precision\n",
    "# getcontext().prec = 17\n",
    "\n",
    "inputArr = [_ for _ in range(0, 9, 1)]\n",
    "\n",
    "print(inputArr)"
   ]
  },
  {
   "cell_type": "code",
   "execution_count": 507,
   "metadata": {},
   "outputs": [
    {
     "name": "stdout",
     "output_type": "stream",
     "text": [
      "[0 1 2 3 4 5 6 7 8]\n",
      "int64\n"
     ]
    }
   ],
   "source": [
    "# Turning the array into NumPy array\n",
    "npArr = np.array(inputArr)\n",
    "\n",
    "# Reshaping the NumPy array into 3x3 matrix\n",
    "# npArr = npArr.reshape((3, 3))\n",
    "\n",
    "print(npArr)\n",
    "\n",
    "print(npArr.dtype)"
   ]
  },
  {
   "cell_type": "code",
   "execution_count": 508,
   "metadata": {},
   "outputs": [
    {
     "name": "stdout",
     "output_type": "stream",
     "text": [
      "[0 1 2 3 4 5 6 7 8]\n",
      "[0 1 2]\n",
      "[1.0, 4.0, 7.0]\n",
      "[3.0, 4.0, 5.0]\n",
      "\n",
      "\n",
      "[0.816496580927726, 0.816496580927726, 0.816496580927726]\n",
      "[2.449489742783178, 2.449489742783178, 2.449489742783178]\n"
     ]
    }
   ],
   "source": [
    "# print(np.round(np.array([npArr[0][0], npArr[0][1], npArr[0][2]]).var(), 15))\n",
    "loz = np.array([_ for _ in range(0, 9, 1)])\n",
    "print(loz)\n",
    "\n",
    "print(loz[[0, 1, 2]])\n",
    "\n",
    "mean_rows = [loz[[0, 1, 2]].mean(), loz[[3, 4, 5]].mean(), loz[[6, 7, 8]].mean()]\n",
    "mean_cols = [loz[[0, 3, 6]].mean(), loz[[1, 4, 7]].mean(), loz[[2, 5, 8]].mean()]\n",
    "\n",
    "print(mean_rows)\n",
    "print(mean_cols)\n",
    "\n",
    "std_rows = [loz[[0, 1, 2]].std(), loz[[3, 4, 5]].std(), loz[[6, 7, 8]].std()]\n",
    "std_cols = [loz[[0, 3, 6]].std(), loz[[1, 4, 7]].std(), loz[[2, 5, 8]].std()]\n",
    "\n",
    "print(\"\\n\\n{}\\n{}\".format(std_rows, std_cols))"
   ]
  },
  {
   "cell_type": "code",
   "execution_count": 509,
   "metadata": {},
   "outputs": [],
   "source": [
    "# print(npArr[:, 2].std())\n",
    "\n",
    "# for ele in npArr[:, 2]:\n",
    "#     print(ele)\n",
    "    \n",
    "# print(npArr[0, :])"
   ]
  },
  {
   "cell_type": "code",
   "execution_count": 510,
   "metadata": {},
   "outputs": [
    {
     "name": "stdout",
     "output_type": "stream",
     "text": [
      "[0 1 2 3 4 5 6 7 8]\n",
      "int64\n"
     ]
    }
   ],
   "source": [
    "# Casting the current data type from Int64 to Float32\n",
    "npArr.astype(\"float64\")\n",
    "\n",
    "print(npArr)\n",
    "print(npArr.dtype)"
   ]
  },
  {
   "cell_type": "code",
   "execution_count": 511,
   "metadata": {},
   "outputs": [],
   "source": [
    "class MatrixStatisticalCalculation:\n",
    "    def __init__(self, npArr: np.array):\n",
    "        # Reshaping the primary NumPy array into 3x3 matrix\n",
    "        self._input = self.matrixTransformer(npArr)\n",
    "        \n",
    "    def matrixTransformer(self, npArr: np.array):\n",
    "        if npArr.shape != (3, 3) and npArr.shape == (9, ):\n",
    "            npArr = npArr.reshape(3, 3)\n",
    "            return npArr\n",
    "        \n",
    "        elif npArr.shape == (3, 3):\n",
    "            return npArr\n",
    "\n",
    "        else:\n",
    "            raise ValueError(\"Input Numpy Array must contain 9 numbers!!!\")\n",
    "    \n",
    "    def getStd(self) -> list:\n",
    "        data = []\n",
    "        \n",
    "        # Vertical axis\n",
    "        stdAtCols = [self._input[:, 0].std(), self._input[:, 1].std(), self._input[:, 2].std()]\n",
    "        print(\"Std at cols: {}\".format(stdAtCols))\n",
    "        \n",
    "        # Horizontal axis\n",
    "        stdAtRows = [self._input[0, :].std(), self._input[1, :].std(), self._input[2, :].std()]\n",
    "        print(\"Std at rows: {}\".format(stdAtRows))\n",
    "        \n",
    "        # Standard Deviation of the entire matrix\n",
    "        stdMatrix = self._input.std()\n",
    "        print(\"Std at matrix: {}\".format(stdMatrix))\n",
    "        \n",
    "        data.append(stdAtCols)\n",
    "        data.append(stdAtRows)\n",
    "        data.append(stdMatrix)\n",
    "        \n",
    "        return data\n",
    "    \n",
    "    def getMean(self) -> list:\n",
    "        data = []\n",
    "        \n",
    "        # Vertical axis\n",
    "        meanAtCols = [self._input[:, 0].mean(), self._input[:, 1].mean(), self._input[:, 2].mean()]\n",
    "        \n",
    "        # Horizontal axis\n",
    "        meanAtRows = [self._input[0, :].mean(), self._input[1, :].mean(), self._input[2, :].mean()]\n",
    "        \n",
    "        # Mean of the entire matrix\n",
    "        meanMatrix = self._input.mean()\n",
    "        \n",
    "        data.append(meanAtCols)\n",
    "        data.append(meanAtRows)\n",
    "        data.append(meanMatrix)\n",
    "        \n",
    "        return data\n",
    "\n",
    "    def getVariance(self) -> list:\n",
    "        data = []\n",
    "        \n",
    "        # Vertical axis\n",
    "        # varianceAtCols = self._input.var(axis=0)\n",
    "        varianceAtCols = [self._input[:, 0].var(), self._input[:, 1].var(), self._input[:, 2].var()]\n",
    "        \n",
    "        # Horizontal axis\n",
    "        varianceAtRows = [self._input[0, :].var(), self._input[1, :].var(), self._input[2, :].var()]\n",
    "        \n",
    "        # Variance of the entire matrix\n",
    "        varianceMatrix = self._input.var()\n",
    "        \n",
    "        data.append(varianceAtCols)\n",
    "        data.append(varianceAtRows)\n",
    "        data.append(varianceMatrix)\n",
    "        \n",
    "        return data\n",
    "    \n",
    "    def getMin(self) -> list:\n",
    "        data = []\n",
    "        \n",
    "        # Vertical axis\n",
    "        # minAtCols = self._input.min(axis=0)\n",
    "        minAtCols = [self._input[:, 0].min(), self._input[:, 1].min(), self._input[:, 2].min()]\n",
    "        \n",
    "        \n",
    "        # Horizontal axis\n",
    "        # minAtRows = self._input.min(axis=1)\n",
    "        minAtRows = [self._input[0, :].min(), self._input[1, :].min(), self._input[2, :].min()]\n",
    "        \n",
    "        # Minimum value of the entire matrix\n",
    "        minMatrix = self._input.min()\n",
    "        \n",
    "        # print(\"minAtCols {} -> data type: {}\".format(minAtCols, minAtCols.dtype))\n",
    "        # print(\"minAtRows {} -> data type: {}\".format(minAtRows, minAtRows.dtype))\n",
    "        # print(\"minMatrix {} -> data type: {}\".format(minMatrix, minMatrix.dtype))\n",
    "        \n",
    "        data.append(minAtCols)\n",
    "        data.append(minAtRows)\n",
    "        data.append(minMatrix)\n",
    "        \n",
    "        # print(\"data: {}\".format(data))\n",
    "        \n",
    "        return data\n",
    "    \n",
    "    def getMax(self) -> list:\n",
    "        data = []\n",
    "        \n",
    "        # Vertical axis\n",
    "        maxAtCols = list(self._input.max(axis=0))\n",
    "        \n",
    "        # Horizontal axis\n",
    "        maxAtRows = list(self._input.max(axis=1))\n",
    "        \n",
    "        # Maximum value of the entire matrix\n",
    "        maxMatrix = self._input.max()\n",
    "        \n",
    "        data.append(maxAtCols)\n",
    "        data.append(maxAtRows)\n",
    "        data.append(maxMatrix)\n",
    "        \n",
    "        # print(\"maxAtCols {} -> data type: {}\".format(maxAtCols, maxAtCols.dtype))\n",
    "        # print(\"maxAtRows {} -> data type: {}\".format(maxAtRows, maxAtRows.dtype))\n",
    "        # print(\"maxMatrix {} -> data type: {}\".format(maxMatrix, maxMatrix.dtype))\n",
    "        \n",
    "        return data\n",
    "    \n",
    "    def getSum(self) -> list:\n",
    "        data = []\n",
    "        \n",
    "        # Vertical axis\n",
    "        sumAtCols = list(self._input.sum(axis=0))\n",
    "        \n",
    "        # Horizontal axis\n",
    "        sumAtRows = list(self._input.sum(axis=1))\n",
    "        \n",
    "        # Sum of the entire matrix\n",
    "        sumMatrix = self._input.sum()\n",
    "        \n",
    "        \n",
    "        data.append(sumAtCols)\n",
    "        data.append(sumAtRows)\n",
    "        data.append(sumMatrix)\n",
    "        \n",
    "        return data\n",
    "    \n",
    "    def getStatisticalInfor(self) -> dict:\n",
    "        meanData = self.getMean()\n",
    "        varianceData = self.getVariance()\n",
    "        stdData = self.getStd()  \n",
    "        minData = self.getMin()\n",
    "        maxData = self.getMax()\n",
    "        sumData = self.getSum()\n",
    "\n",
    "        calculations = {\n",
    "            \"mean\": meanData,\n",
    "            \"variance\": varianceData,\n",
    "            \"standard deviation\": stdData,\n",
    "            \"max\": maxData,\n",
    "            \"min\": minData,\n",
    "            \"sum\": sumData\n",
    "        }\n",
    "        return calculations\n",
    "    "
   ]
  },
  {
   "cell_type": "code",
   "execution_count": 512,
   "metadata": {},
   "outputs": [],
   "source": [
    "# test = npArr.max(axis=0).astype(\"int32\")\n",
    "# casted_test = test.astype(\"int32\")\n",
    "\n",
    "# test1 = npArr.max(axis=1).astype(\"int32\")\n",
    "\n",
    "# test2 = npArr.max().astype(\"int32\")\n",
    "\n",
    "# print(test)\n",
    "# print(\"\\n\\n{}\".format(test1))\n",
    "# print(\"\\n\\n{}\".format(test2))\n",
    "\n",
    "# print(casted_test)"
   ]
  },
  {
   "cell_type": "code",
   "execution_count": 513,
   "metadata": {},
   "outputs": [
    {
     "name": "stdout",
     "output_type": "stream",
     "text": [
      "Std at cols: [2.449489742783178, 2.449489742783178, 2.449489742783178]\n",
      "Std at rows: [0.816496580927726, 0.816496580927726, 0.816496580927726]\n",
      "Std at matrix: 2.581988897471611\n",
      "[[2.449489742783178, 2.449489742783178, 2.449489742783178], [0.816496580927726, 0.816496580927726, 0.816496580927726], 2.581988897471611]\n",
      "\n",
      "\n",
      "\n",
      "[[6.0, 6.0, 6.0], [0.6666666666666666, 0.6666666666666666, 0.6666666666666666], 6.666666666666667]\n",
      "0.666666666666667\n"
     ]
    }
   ],
   "source": [
    "calculation = MatrixStatisticalCalculation(npArr)\n",
    "\n",
    "print(calculation.getStd())\n",
    "\n",
    "print(\"\\n\\n\")\n",
    "\n",
    "test3 = calculation.getVariance()\n",
    "print(test3)\n",
    "print(\"{0:.15f}\".format(test3[1][0]))\n",
    "\n"
   ]
  },
  {
   "cell_type": "code",
   "execution_count": 514,
   "metadata": {},
   "outputs": [
    {
     "name": "stdout",
     "output_type": "stream",
     "text": [
      "2.581988897471611\n",
      "4.0\n",
      "8\n",
      "0\n",
      "36\n",
      "6.666666666666667\n"
     ]
    }
   ],
   "source": [
    "std = npArr.std()\n",
    "print(std)\n",
    "\n",
    "mean = npArr.mean()\n",
    "print(mean)\n",
    "\n",
    "maxVal = npArr.max()\n",
    "print(maxVal)\n",
    "\n",
    "minVal = npArr.min()\n",
    "print(minVal)\n",
    "\n",
    "sumVal = npArr.sum()\n",
    "print(sumVal)\n",
    "\n",
    "varianceVal = npArr.var()\n",
    "print(varianceVal)\n",
    " "
   ]
  },
  {
   "cell_type": "code",
   "execution_count": 515,
   "metadata": {},
   "outputs": [
    {
     "name": "stdout",
     "output_type": "stream",
     "text": [
      "[0 1 2 3 4 5 6 7 8]\n",
      "\n",
      "\n",
      "\n",
      "0\n",
      "1\n",
      "2\n",
      "3\n",
      "4\n",
      "5\n",
      "6\n",
      "7\n",
      "8\n"
     ]
    }
   ],
   "source": [
    "# len = len(npArr)\n",
    "\n",
    "# print(len)\n",
    "\n",
    "# # for row in npArr:\n",
    "# #     print(row)\n",
    "\n",
    "print(npArr)\n",
    "\n",
    "print(\"\\n\\n\")\n",
    "\n",
    "for row in npArr:\n",
    "    print(row)\n"
   ]
  },
  {
   "cell_type": "code",
   "execution_count": 516,
   "metadata": {},
   "outputs": [
    {
     "name": "stdout",
     "output_type": "stream",
     "text": [
      "Std at cols: [2.449489742783178, 2.449489742783178, 2.449489742783178]\n",
      "Std at rows: [0.816496580927726, 0.816496580927726, 0.816496580927726]\n",
      "Std at matrix: 2.581988897471611\n",
      "{'mean': [[3.0, 4.0, 5.0], [1.0, 4.0, 7.0], 4.0], 'variance': [[6.0, 6.0, 6.0], [0.6666666666666666, 0.6666666666666666, 0.6666666666666666], 6.666666666666667], 'standard deviation': [[2.449489742783178, 2.449489742783178, 2.449489742783178], [0.816496580927726, 0.816496580927726, 0.816496580927726], 2.581988897471611], 'max': [[6, 7, 8], [2, 5, 8], 8], 'min': [[0, 1, 2], [0, 3, 6], 0], 'sum': [[9, 12, 15], [3, 12, 21], 36]}\n",
      "<class 'dict'>\n"
     ]
    }
   ],
   "source": [
    "import json\n",
    "\n",
    "meanData = calculation.getMean()\n",
    "varianceData = calculation.getVariance()\n",
    "stdData = calculation.getStd()\n",
    "minData = calculation.getMin()\n",
    "maxData = calculation.getMax()\n",
    "sumData = calculation.getSum()\n",
    "\n",
    "calculations = {\n",
    "    \"mean\": meanData,\n",
    "    \"variance\": varianceData,\n",
    "    \"standard deviation\": stdData,\n",
    "    \"max\": maxData,\n",
    "    \"min\": minData,\n",
    "    \"sum\": sumData\n",
    "}\n",
    "\n",
    "print(calculations)\n",
    "print(type(calculations))"
   ]
  },
  {
   "cell_type": "code",
   "execution_count": 517,
   "metadata": {},
   "outputs": [
    {
     "data": {
      "text/plain": [
       "[[6, 7, 8], [2, 5, 8], 8]"
      ]
     },
     "execution_count": 517,
     "metadata": {},
     "output_type": "execute_result"
    }
   ],
   "source": [
    "calculation.getMax()"
   ]
  },
  {
   "cell_type": "code",
   "execution_count": 518,
   "metadata": {},
   "outputs": [
    {
     "name": "stdout",
     "output_type": "stream",
     "text": [
      "Current length: 9\n",
      "Expected Length: 17\n"
     ]
    }
   ],
   "source": [
    "# dkm = str(2.449489742783178)\n",
    "# print(dkm)\n",
    "\n",
    "# components = list(dkm)\n",
    "# print(components)\n",
    "\n",
    "# counter = 0\n",
    "# for c in components:\n",
    "#     counter += 1\n",
    "\n",
    "# print(counter)\n",
    "\n",
    "def countLengthNumber(numb: float) -> int:\n",
    "    components = list(str(numb))\n",
    "    counter = 0\n",
    "    \n",
    "    for c in components:\n",
    "        counter += 1\n",
    "    \n",
    "    return counter \n",
    "\n",
    "expectedLength = countLengthNumber(2.449489742783178)\n",
    "currentLength = countLengthNumber(2.4494898)\n",
    "\n",
    "print(\"Current length: {}\\nExpected Length: {}\".format(currentLength, expectedLength))"
   ]
  },
  {
   "cell_type": "code",
   "execution_count": 519,
   "metadata": {},
   "outputs": [
    {
     "name": "stdout",
     "output_type": "stream",
     "text": [
      "['l', 'o', 'z']\n",
      "2.44948974\n"
     ]
    }
   ],
   "source": [
    "loz = \"loz\"\n",
    "# print(len(loz))\n",
    "l = list(loz)\n",
    "print(l)\n",
    "\n",
    "k = 2.44948974\n",
    "print(round(k, 15))"
   ]
  },
  {
   "cell_type": "markdown",
   "metadata": {},
   "source": [
    "## Testing"
   ]
  },
  {
   "cell_type": "markdown",
   "metadata": {},
   "source": [
    "### Case 1"
   ]
  },
  {
   "cell_type": "code",
   "execution_count": 520,
   "metadata": {},
   "outputs": [
    {
     "name": "stdout",
     "output_type": "stream",
     "text": [
      "[[2 6 2]\n",
      " [8 4 0]\n",
      " [1 5 7]]\n",
      "Std at cols: [3.091206165165235, 0.816496580927726, 2.943920288775949]\n",
      "Std at rows: [1.8856180831641267, 3.265986323710904, 2.494438257849294]\n",
      "Std at matrix: 2.6434171674156266\n",
      "{'mean': [[3.6666666666666665, 5.0, 3.0], [3.3333333333333335, 4.0, 4.333333333333333], 3.888888888888889], 'variance': [[9.555555555555557, 0.6666666666666666, 8.666666666666666], [3.555555555555556, 10.666666666666666, 6.222222222222221], 6.987654320987654], 'standard deviation': [[3.091206165165235, 0.816496580927726, 2.943920288775949], [1.8856180831641267, 3.265986323710904, 2.494438257849294], 2.6434171674156266], 'max': [[8, 6, 7], [6, 8, 7], 8], 'min': [[1, 4, 0], [2, 0, 1], 0], 'sum': [[11, 15, 9], [10, 12, 13], 35]}\n"
     ]
    }
   ],
   "source": [
    "npArrTest1 = np.reshape(np.array([2,6,2,8,4,0,1,5,7]), (3, 3))\n",
    "\n",
    "print(npArrTest1)\n",
    "\n",
    "calcTest1 = MatrixStatisticalCalculation(npArrTest1)\n",
    "\n",
    "print(calcTest1.getStatisticalInfor())\n"
   ]
  },
  {
   "cell_type": "code",
   "execution_count": 521,
   "metadata": {},
   "outputs": [],
   "source": [
    "str1 = \"{'mean': [[3.6666666666666665, 5.0, 3.0], [3.3333333333333335, 4.0, 4.333333333333333], 3.888888888888889], 'variance': [[9.555555555555557, 0.6666666666666666, 8.666666666666666], [3.555555555555556, 10.666666666666666, 6.222222222222221], 6.987654320987654], 'standard deviation': [[3.091206165165235, 0.816496580927726, 2.943920288775949], [1.8856180831641267, 3.265986323710904, 2.494438257849294], 2.6434171674156266], 'max': [[8, 6, 7], [6, 8, 7], 8], 'min': [[1, 4, 0], [2, 0, 1], 0], 'sum': [[11, 15, 9], [10, 12, 13], 35]}\"\n",
    "str2 = \"{'mean': [[3.6666666666666665, 5.0, 3.0], [3.3333333333333335, 4.0, 4.333333333333333], 3.888888888888889], 'variance': [[9.555555555555557, 0.6666666666666666, 8.666666666666666], [3.555555555555556, 10.666666666666666, 6.222222222222221], 6.987654320987654], 'standard deviation': [[3.091206165165235, 0.816496580927726, 2.943920288775949], [1.8856180831641267, 3.265986323710904, 2.494438257849294], 2.6434171674156266], 'max': [array([8, 6, 7], array([6, 8, 7]), 8], 'min': [array([1, 4, 0]), array([2, 0, 1], dtype=int32), 0], 'sum': [array([11, 15,  9], dtype=int32), array([10, 12, 13], dtype=int32), 35]}\"\n"
   ]
  },
  {
   "cell_type": "code",
   "execution_count": 522,
   "metadata": {},
   "outputs": [
    {
     "name": "stdout",
     "output_type": "stream",
     "text": [
      "(9,)\n",
      "True\n"
     ]
    }
   ],
   "source": [
    "sample = np.array([2,6,2,8,4,0,1,5,7])\n",
    "print(sample.shape)\n",
    "\n",
    "print(sample.shape == (9, ))"
   ]
  },
  {
   "cell_type": "markdown",
   "metadata": {},
   "source": [
    "### Case 2"
   ]
  },
  {
   "cell_type": "code",
   "execution_count": 528,
   "metadata": {},
   "outputs": [
    {
     "name": "stdout",
     "output_type": "stream",
     "text": [
      "[2 6 2 8 4 0 1]\n",
      "(7,)\n"
     ]
    }
   ],
   "source": [
    "npArrTest2 = np.array([2,6,2,8,4,0,1])\n",
    "\n",
    "print(npArrTest2)\n",
    "\n",
    "print(npArrTest2.shape)"
   ]
  },
  {
   "cell_type": "code",
   "execution_count": 529,
   "metadata": {},
   "outputs": [
    {
     "ename": "ValueError",
     "evalue": "Input Numpy Array must contain 9 numbers!!!",
     "output_type": "error",
     "traceback": [
      "\u001b[31m---------------------------------------------------------------------------\u001b[39m",
      "\u001b[31mValueError\u001b[39m                                Traceback (most recent call last)",
      "\u001b[36mCell\u001b[39m\u001b[36m \u001b[39m\u001b[32mIn[529]\u001b[39m\u001b[32m, line 1\u001b[39m\n\u001b[32m----> \u001b[39m\u001b[32m1\u001b[39m calcTest2 = \u001b[43mMatrixStatisticalCalculation\u001b[49m\u001b[43m(\u001b[49m\u001b[43mnpArrTest2\u001b[49m\u001b[43m)\u001b[49m\n",
      "\u001b[36mCell\u001b[39m\u001b[36m \u001b[39m\u001b[32mIn[511]\u001b[39m\u001b[32m, line 4\u001b[39m, in \u001b[36mMatrixStatisticalCalculation.__init__\u001b[39m\u001b[34m(self, npArr)\u001b[39m\n\u001b[32m      2\u001b[39m \u001b[38;5;28;01mdef\u001b[39;00m\u001b[38;5;250m \u001b[39m\u001b[34m__init__\u001b[39m(\u001b[38;5;28mself\u001b[39m, npArr: np.array):\n\u001b[32m      3\u001b[39m     \u001b[38;5;66;03m# Reshaping the primary NumPy array into 3x3 matrix\u001b[39;00m\n\u001b[32m----> \u001b[39m\u001b[32m4\u001b[39m     \u001b[38;5;28mself\u001b[39m._input = \u001b[38;5;28;43mself\u001b[39;49m\u001b[43m.\u001b[49m\u001b[43mmatrixTransformer\u001b[49m\u001b[43m(\u001b[49m\u001b[43mnpArr\u001b[49m\u001b[43m)\u001b[49m\n",
      "\u001b[36mCell\u001b[39m\u001b[36m \u001b[39m\u001b[32mIn[511]\u001b[39m\u001b[32m, line 15\u001b[39m, in \u001b[36mMatrixStatisticalCalculation.matrixTransformer\u001b[39m\u001b[34m(self, npArr)\u001b[39m\n\u001b[32m     12\u001b[39m     \u001b[38;5;28;01mreturn\u001b[39;00m npArr\n\u001b[32m     14\u001b[39m \u001b[38;5;28;01melse\u001b[39;00m:\n\u001b[32m---> \u001b[39m\u001b[32m15\u001b[39m     \u001b[38;5;28;01mraise\u001b[39;00m \u001b[38;5;167;01mValueError\u001b[39;00m(\u001b[33m\"\u001b[39m\u001b[33mInput Numpy Array must contain 9 numbers!!!\u001b[39m\u001b[33m\"\u001b[39m)\n",
      "\u001b[31mValueError\u001b[39m: Input Numpy Array must contain 9 numbers!!!"
     ]
    }
   ],
   "source": [
    "calcTest2 = MatrixStatisticalCalculation(npArrTest2)"
   ]
  }
 ],
 "metadata": {
  "kernelspec": {
   "display_name": "Python (venv)",
   "language": "python",
   "name": "venv"
  },
  "language_info": {
   "codemirror_mode": {
    "name": "ipython",
    "version": 3
   },
   "file_extension": ".py",
   "mimetype": "text/x-python",
   "name": "python",
   "nbconvert_exporter": "python",
   "pygments_lexer": "ipython3",
   "version": "3.12.3"
  }
 },
 "nbformat": 4,
 "nbformat_minor": 2
}
